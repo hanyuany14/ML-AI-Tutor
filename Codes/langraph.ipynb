{
 "cells": [
  {
   "cell_type": "markdown",
   "metadata": {},
   "source": [
    "# LanGraph Intro"
   ]
  },
  {
   "cell_type": "markdown",
   "metadata": {},
   "source": [
    "https://ywctech.net/ml-ai/langchain-langgraph-agent-part1/"
   ]
  },
  {
   "cell_type": "markdown",
   "metadata": {},
   "source": [
    "LangGraph 是一個用於建立複雜、狀態化的多AI代理系統的革命性框架，特別適用於與大型語言模型 (LLM) 合作。LangGraph 以圖形結構為基礎，將每個 AI 代理視為節點，而代理之間的資訊傳遞則以邊來呈現。它提供狀態管理功能，讓代理能夠在執行任務時更新自身的狀態，並保持上下文連貫性。此外，LangGraph 還具備協調能力，確保代理按正確順序執行任務，並有效地交換資訊。透過這些特性，LangGraph 簡化了開發流程，讓開發者可以更專注於應用的高階邏輯。LangGraph 適用於各種場景，例如智能客服系統、工作流程自動化、多代理協作系統、智能推薦系統以及個人化學習平台等。文章詳細介紹了 LangGraph 的核心概念、應用場景、使用方法以及優缺點，旨在讓讀者了解 LangGraph 的強大功能，並鼓勵他們開始使用這個工具來開發更智能的 AI 應用。\n",
    "\n"
   ]
  },
  {
   "cell_type": "markdown",
   "metadata": {},
   "source": [
    "圖結構（Graph Structure）：AI 應用的骨架\n",
    "LangGraph 採用有向圖（Directed Graph）來描述應用程式結構。想像將你的應用程式描述成一張有向圖，LangGraph 世界中，將每一個節點(Node) 都代表一個代理人，邊(edge) 則是代理人之間傳遞資訊的通道。利用這種清晰的結構且可管理的工作流程，每個代理人可以執行特定任務之外也能將資訊傳遞給其他代理。\n",
    "\n",
    "- 節點（Node）：代表各個智能代理\n",
    "- 邊（Edge）：代表代理之間的信息傳遞通道"
   ]
  },
  {
   "attachments": {
    "image.png": {
     "image/png": "[encoded data removed]"
    }
   },
   "cell_type": "markdown",
   "metadata": {},
   "source": [
    "![image.png](attachment:image.png)"
   ]
  },
  {
   "cell_type": "markdown",
   "metadata": {},
   "source": [
    "狀態管理（State Management）\n",
    "LangGraph 的狀態管理功能就像是給 AI 安裝了一個超級記憶體。當 AI 代理執行任務時，它們可以即時更新自己的狀態，確保系統能夠維持上下文的連貫性，並對輸入做出最恰當的回應。這項功能讓開發者能夠在多輪對話中追蹤和保留關鍵資訊，大大提升了 AI 應用的智慧程度和使用體驗。\n",
    "\n",
    "LangGraph 的動態狀態更新機制確保系統能夠：\n",
    "\n",
    "- 維護上下文\n",
    "- 對輸入做出適當回應\n",
    "- 在多次交互中追踪和保留關鍵信息"
   ]
  },
  {
   "cell_type": "markdown",
   "metadata": {},
   "source": [
    "協調（Coordination）\n",
    "LangGraph 的協調功能就像是一位精明的指揮家，確保每個 AI 代理都能在正確的時機演奏出最美妙的音符。通過精確管理資料流和操作順序，LangGraph 讓開發者能夠專注於設計應用的高階邏輯，而無需陷入繁瑣的協調細節中。\n",
    "\n",
    "LangGraph 的協調功能確保：\n",
    "\n",
    "- 代理按正確順序執行任務\n",
    "- 信息在代理間無縫交換\n",
    "- 開發者可專注於應用程序的高階邏輯\n",
    "\n",
    "\n",
    "💡 亮點：LangGraph 的協調功能極大地簡化了複雜多代理系統的開發流程，使得構建高度智能化的應用變得前所未有的簡單。"
   ]
  },
  {
   "cell_type": "markdown",
   "metadata": {},
   "source": [
    "教學：\n",
    "\n",
    "https://langchain-ai.github.io/langgraph/tutorials/introduction/#requirements"
   ]
  },
  {
   "cell_type": "markdown",
   "metadata": {},
   "source": [
    "## Concept"
   ]
  },
  {
   "cell_type": "markdown",
   "metadata": {},
   "source": [
    "# Conversational RAG"
   ]
  },
  {
   "cell_type": "code",
   "execution_count": 9,
   "metadata": {},
   "outputs": [],
   "source": [
    "from typing import Sequence\n",
    "\n",
    "import bs4\n",
    "from langchain.chains import create_history_aware_retriever, create_retrieval_chain\n",
    "from langchain.chains.combine_documents import create_stuff_documents_chain\n",
    "from langchain_community.document_loaders import WebBaseLoader\n",
    "from langchain_core.messages import AIMessage, BaseMessage, HumanMessage\n",
    "from langchain_core.prompts import ChatPromptTemplate, MessagesPlaceholder\n",
    "from langchain_core.vectorstores import InMemoryVectorStore\n",
    "from langchain_openai import ChatOpenAI, OpenAIEmbeddings\n",
    "from langchain_text_splitters import RecursiveCharacterTextSplitter\n",
    "from langgraph.checkpoint.memory import MemorySaver\n",
    "from langgraph.graph import START, StateGraph\n",
    "from langgraph.graph.message import add_messages\n",
    "from typing_extensions import Annotated, TypedDict\n",
    "\n",
    "import os\n",
    "from dotenv import load_dotenv\n",
    "\n",
    "load_dotenv(\"/Users/wenye/ML&AI Tutor/.env.local\")\n",
    "\n",
    "OPENAI_KEY = os.getenv(\"OPENAI_KEY\")\n",
    "\n",
    "llm = ChatOpenAI(model=\"gpt-4o-mini\", api_key=OPENAI_KEY)\n",
    "OPENAI_EMBEDDING = OpenAIEmbeddings(api_key=OPENAI_KEY)\n",
    "\n",
    "\n",
    "### Construct retriever ###\n",
    "loader = WebBaseLoader(\n",
    "    web_paths=(\"https://lilianweng.github.io/posts/2023-06-23-agent/\",),\n",
    "    bs_kwargs=dict(\n",
    "        parse_only=bs4.SoupStrainer(\n",
    "            class_=(\"post-content\", \"post-title\", \"post-header\")\n",
    "        )\n",
    "    ),\n",
    ")\n",
    "docs = loader.load()\n",
    "\n",
    "text_splitter = RecursiveCharacterTextSplitter(chunk_size=1000, chunk_overlap=200)\n",
    "splits = text_splitter.split_documents(docs)\n",
    "vectorstore = InMemoryVectorStore.from_documents(\n",
    "    documents=splits, embedding=OPENAI_EMBEDDING\n",
    ")\n",
    "retriever = vectorstore.as_retriever()\n",
    "\n",
    "\n",
    "### Contextualize question ###\n",
    "contextualize_q_system_prompt = (\n",
    "    \"Given a chat history and the latest user question \"\n",
    "    \"which might reference context in the chat history, \"\n",
    "    \"formulate a standalone question which can be understood \"\n",
    "    \"without the chat history. Do NOT answer the question, \"\n",
    "    \"just reformulate it if needed and otherwise return it as is.\"\n",
    ")\n",
    "contextualize_q_prompt = ChatPromptTemplate.from_messages(\n",
    "    [\n",
    "        (\"system\", contextualize_q_system_prompt),\n",
    "        MessagesPlaceholder(\"chat_history\"),\n",
    "        (\"human\", \"{input}\"),\n",
    "    ]\n",
    ")\n",
    "history_aware_retriever = create_history_aware_retriever(\n",
    "    llm, retriever, contextualize_q_prompt\n",
    ")\n",
    "\n",
    "\n",
    "### Answer question ###\n",
    "system_prompt = (\n",
    "    \"You are an assistant for question-answering tasks. \"\n",
    "    \"Use the following pieces of retrieved context to answer \"\n",
    "    \"the question. If you don't know the answer, say that you \"\n",
    "    \"don't know. Use three sentences maximum and keep the \"\n",
    "    \"answer concise.\"\n",
    "    \"\\n\\n\"\n",
    "    \"{context}\"\n",
    ")\n",
    "qa_prompt = ChatPromptTemplate.from_messages(\n",
    "    [\n",
    "        (\"system\", system_prompt),\n",
    "        MessagesPlaceholder(\"chat_history\"),\n",
    "        (\"human\", \"{input}\"),\n",
    "    ]\n",
    ")\n",
    "question_answer_chain = create_stuff_documents_chain(llm, qa_prompt)\n",
    "\n",
    "rag_chain = create_retrieval_chain(history_aware_retriever, question_answer_chain)\n",
    "\n",
    "\n",
    "### Statefully manage chat history ###\n",
    "class State(TypedDict):\n",
    "    input: str\n",
    "    chat_history: Annotated[Sequence[BaseMessage], add_messages]\n",
    "    context: str\n",
    "    answer: str\n",
    "\n",
    "\n",
    "def call_model(state: State):\n",
    "    response = rag_chain.invoke(state)\n",
    "    return {\n",
    "        \"chat_history\": [\n",
    "            HumanMessage(state[\"input\"]),\n",
    "            AIMessage(response[\"answer\"]),\n",
    "        ],\n",
    "        \"context\": response[\"context\"],\n",
    "        \"answer\": response[\"answer\"],\n",
    "    }\n",
    "\n",
    "\n",
    "workflow = StateGraph(state_schema=State)\n",
    "workflow.add_edge(START, \"model\")\n",
    "workflow.add_node(\"model\", call_model)\n",
    "\n",
    "memory = MemorySaver()\n",
    "app = workflow.compile(checkpointer=memory)"
   ]
  },
  {
   "cell_type": "code",
   "execution_count": 10,
   "metadata": {},
   "outputs": [
    {
     "name": "stdout",
     "output_type": "stream",
     "text": [
      "Task decomposition is the process of breaking down a complicated task into smaller, more manageable steps. Techniques like Chain of Thought (CoT) and Tree of Thoughts (ToT) facilitate this by guiding models to think step by step and explore multiple reasoning possibilities, respectively. This approach enhances understanding and execution of complex tasks.\n"
     ]
    }
   ],
   "source": [
    "config = {\"configurable\": {\"thread_id\": \"abc123\"}}\n",
    "\n",
    "result = app.invoke(\n",
    "    {\"input\": \"What is Task Decomposition?\"},\n",
    "    config=config,\n",
    ")\n",
    "print(result[\"answer\"])"
   ]
  },
  {
   "cell_type": "code",
   "execution_count": 11,
   "metadata": {},
   "outputs": [
    {
     "name": "stdout",
     "output_type": "stream",
     "text": [
      "One way to perform task decomposition is by using simple prompting, such as asking \"Steps for XYZ.\\n1.\" This method directs the model to outline the necessary steps to achieve a specific goal. It can also involve task-specific instructions tailored to the nature of the task, like \"Write a story outline.\" for writing a novel.\n"
     ]
    }
   ],
   "source": [
    "result = app.invoke(\n",
    "    {\"input\": \"What is one way of doing it?\"},\n",
    "    config=config,\n",
    ")\n",
    "print(result[\"answer\"])"
   ]
  },
  {
   "cell_type": "code",
   "execution_count": 12,
   "metadata": {},
   "outputs": [
    {
     "data": {
      "text/plain": [
       "{'source': 'https://lilianweng.github.io/posts/2023-06-23-agent/'}"
      ]
     },
     "execution_count": 12,
     "metadata": {},
     "output_type": "execute_result"
    }
   ],
   "source": [
    "result[\"context\"][0].metadata"
   ]
  },
  {
   "cell_type": "code",
   "execution_count": 13,
   "metadata": {},
   "outputs": [
    {
     "name": "stdout",
     "output_type": "stream",
     "text": [
      "================================\u001b[1m Human Message \u001b[0m=================================\n",
      "\n",
      "What is Task Decomposition?\n",
      "==================================\u001b[1m Ai Message \u001b[0m==================================\n",
      "\n",
      "Task decomposition is the process of breaking down a complicated task into smaller, more manageable steps. Techniques like Chain of Thought (CoT) and Tree of Thoughts (ToT) facilitate this by guiding models to think step by step and explore multiple reasoning possibilities, respectively. This approach enhances understanding and execution of complex tasks.\n",
      "================================\u001b[1m Human Message \u001b[0m=================================\n",
      "\n",
      "What is one way of doing it?\n",
      "==================================\u001b[1m Ai Message \u001b[0m==================================\n",
      "\n",
      "One way to perform task decomposition is by using simple prompting, such as asking \"Steps for XYZ.\\n1.\" This method directs the model to outline the necessary steps to achieve a specific goal. It can also involve task-specific instructions tailored to the nature of the task, like \"Write a story outline.\" for writing a novel.\n"
     ]
    }
   ],
   "source": [
    "chat_history = app.get_state(config).values[\"chat_history\"]\n",
    "for message in chat_history:\n",
    "    message.pretty_print()"
   ]
  },
  {
   "cell_type": "markdown",
   "metadata": {},
   "source": [
    "# Agent"
   ]
  },
  {
   "cell_type": "code",
   "execution_count": 26,
   "metadata": {},
   "outputs": [],
   "source": [
    "from typing import Annotated\n",
    "\n",
    "from typing_extensions import TypedDict\n",
    "\n",
    "from langgraph.graph import StateGraph, START, END\n",
    "from langgraph.graph.message import add_messages\n",
    "\n",
    "\n",
    "class State(TypedDict):\n",
    "    # Messages have the type \"list\". The `add_messages` function\n",
    "    # in the annotation defines how this state key should be updated\n",
    "    # (in this case, it appends messages to the list, rather than overwriting them)\n",
    "    messages: Annotated[list, add_messages]\n",
    "\n",
    "\n",
    "graph_builder = StateGraph(State)"
   ]
  },
  {
   "cell_type": "code",
   "execution_count": 27,
   "metadata": {},
   "outputs": [
    {
     "data": {
      "text/plain": [
       "<langgraph.graph.state.StateGraph at 0x13c3c9150>"
      ]
     },
     "execution_count": 27,
     "metadata": {},
     "output_type": "execute_result"
    }
   ],
   "source": [
    "from dotenv import load_dotenv\n",
    "\n",
    "load_dotenv(\"/Users/wenye/ML&AI Tutor/.env.local\")\n",
    "\n",
    "OPENAI_KEY = os.getenv(\"OPENAI_KEY\")\n",
    "\n",
    "from langchain_openai import ChatOpenAI, OpenAIEmbeddings\n",
    "\n",
    "llm = ChatOpenAI(model=\"gpt-4o-mini\", api_key=OPENAI_KEY)\n",
    "\n",
    "\n",
    "def chatbot(state: State):\n",
    "    return {\"messages\": [llm.invoke(state[\"messages\"])]}\n",
    "\n",
    "\n",
    "# The first argument is the unique node name\n",
    "# The second argument is the function or object that will be called whenever\n",
    "# the node is used.\n",
    "graph_builder.add_node(node=\"chatbot\", action=chatbot)"
   ]
  },
  {
   "cell_type": "code",
   "execution_count": 28,
   "metadata": {},
   "outputs": [
    {
     "data": {
      "text/plain": [
       "<langgraph.graph.state.StateGraph at 0x13c3c9150>"
      ]
     },
     "execution_count": 28,
     "metadata": {},
     "output_type": "execute_result"
    }
   ],
   "source": [
    "# Next, add an entry point.\n",
    "# This tells our graph where to start its work each time we run it.\n",
    "graph_builder.add_edge(start_key=START, end_key=\"chatbot\")"
   ]
  },
  {
   "cell_type": "code",
   "execution_count": 29,
   "metadata": {},
   "outputs": [
    {
     "data": {
      "text/plain": [
       "<langgraph.graph.state.StateGraph at 0x13c3c9150>"
      ]
     },
     "execution_count": 29,
     "metadata": {},
     "output_type": "execute_result"
    }
   ],
   "source": [
    "# Similarly, set a finish point.\n",
    "# This instructs the graph \"any time this node is run, you can exit.\"\n",
    "graph_builder.add_edge(start_key=\"chatbot\", end_key=END)"
   ]
  },
  {
   "cell_type": "code",
   "execution_count": 30,
   "metadata": {},
   "outputs": [],
   "source": [
    "graph = graph_builder.compile()"
   ]
  },
  {
   "cell_type": "code",
   "execution_count": 31,
   "metadata": {},
   "outputs": [
    {
     "data": {
      "image/png": "[encoded data removed]",
      "text/plain": [
       "<IPython.core.display.Image object>"
      ]
     },
     "metadata": {},
     "output_type": "display_data"
    }
   ],
   "source": [
    "from IPython.display import Image, display\n",
    "\n",
    "try:\n",
    "    display(Image(graph.get_graph().draw_mermaid_png()))\n",
    "except Exception:\n",
    "    # This requires some extra dependencies and is optional\n",
    "    pass"
   ]
  },
  {
   "cell_type": "code",
   "execution_count": 32,
   "metadata": {},
   "outputs": [
    {
     "name": "stdout",
     "output_type": "stream",
     "text": [
      "Assistant: 你是問自己身份的人，可能是一位有思考、有情感的個體。如果你有具體的問題或想要討論的主題，請告訴我，我會很高興幫助你！\n",
      "Assistant: 你好！有什麼我可以幫忙的嗎？\n",
      "Goodbye!\n"
     ]
    }
   ],
   "source": [
    "# Now let's run the chatbot!\n",
    "# Tip: You can exit the chat loop at any time by typing \"quit\", \"exit\", or \"q\".\n",
    "\n",
    "\n",
    "def stream_graph_updates(user_input: str):\n",
    "    for event in graph.stream({\"messages\": [(\"user\", user_input)]}):\n",
    "        for value in event.values():\n",
    "            print(\"Assistant:\", value[\"messages\"][-1].content)\n",
    "\n",
    "\n",
    "while True:\n",
    "    try:\n",
    "        user_input = input(\"User: \")\n",
    "        if user_input.lower() in [\"quit\", \"exit\", \"q\"]:\n",
    "            print(\"Goodbye!\")\n",
    "            break\n",
    "\n",
    "        stream_graph_updates(user_input)\n",
    "    except:\n",
    "        # fallback if input() is not available\n",
    "        user_input = \"What do you know about LangGraph?\"\n",
    "        print(\"User: \" + user_input)\n",
    "        stream_graph_updates(user_input)\n",
    "        break"
   ]
  },
  {
   "cell_type": "markdown",
   "metadata": {},
   "source": [
    "### Using Tool in Agent"
   ]
  },
  {
   "cell_type": "markdown",
   "metadata": {},
   "source": [
    "Next, define the tool:\n"
   ]
  },
  {
   "cell_type": "markdown",
   "metadata": {},
   "source": [
    "先從最後的圖看回來。"
   ]
  },
  {
   "cell_type": "code",
   "execution_count": 45,
   "metadata": {},
   "outputs": [
    {
     "data": {
      "text/plain": [
       "[{'url': 'https://medium.com/@cplog/introduction-to-langgraph-a-beginners-guide-14f9be027141',\n",
       "  'content': 'Nodes: Nodes are the building blocks of your LangGraph. Each node represents a function or a computation step. You define nodes to perform specific tasks, such as processing input, making'},\n",
       " {'url': 'https://www.datacamp.com/tutorial/langgraph-tutorial',\n",
       "  'content': \"In LangGraph, each node represents an LLM agent, and the edges are the communication channels between these agents. This structure allows for clear and manageable workflows, where each agent performs specific tasks and passes information to other agents as needed. State management. One of LangGraph's standout features is its automatic state\"}]"
      ]
     },
     "execution_count": 45,
     "metadata": {},
     "output_type": "execute_result"
    }
   ],
   "source": [
    "from langchain_community.tools.tavily_search import TavilySearchResults\n",
    "from dotenv import load_dotenv\n",
    "\n",
    "load_dotenv(\"/Users/wenye/ML&AI Tutor/.env.local\")\n",
    "os.environ[\"TAVILY_API_KEY\"] = os.getenv(\"TAVILY_API_KEY\")\n",
    "\n",
    "tool = TavilySearchResults(max_results=2)\n",
    "tools = [tool]\n",
    "tool.invoke(\"What's a 'node' in LangGraph?\")"
   ]
  },
  {
   "cell_type": "code",
   "execution_count": null,
   "metadata": {},
   "outputs": [
    {
     "data": {
      "text/plain": [
       "<langgraph.graph.state.StateGraph at 0x13bd5b0d0>"
      ]
     },
     "execution_count": 46,
     "metadata": {},
     "output_type": "execute_result"
    }
   ],
   "source": [
    "from typing import Annotated\n",
    "\n",
    "from typing_extensions import TypedDict\n",
    "\n",
    "from langgraph.graph import StateGraph, START, END\n",
    "from langgraph.graph.message import add_messages\n",
    "\n",
    "\n",
    "class State(TypedDict):\n",
    "    messages: Annotated[list, add_messages]\n",
    "\n",
    "\n",
    "graph_builder = StateGraph(State)\n",
    "\n",
    "llm = ChatOpenAI(model=\"gpt-4o-mini\", api_key=OPENAI_KEY)\n",
    "\n",
    "# Modification: tell the LLM which tools it can call\n",
    "tool = TavilySearchResults(max_results=2)\n",
    "tools = [tool]\n",
    "llm_with_tools = llm.bind_tools(tools)\n",
    "\n",
    "\n",
    "def chatbot(state: State):\n",
    "    return {\"messages\": [llm_with_tools.invoke(state[\"messages\"])]}\n",
    "\n",
    "\n",
    "graph_builder.add_node(\"chatbot\", chatbot)"
   ]
  },
  {
   "cell_type": "code",
   "execution_count": 47,
   "metadata": {},
   "outputs": [
    {
     "name": "stdout",
     "output_type": "stream",
     "text": [
      "Found messages: ['Hello', 'World']\n",
      "No messages found.\n",
      "Found messages: ['Hello', 'World']\n"
     ]
    }
   ],
   "source": [
    "# 再繼續之前，先看一個進階的 python 語法\n",
    "\n",
    "inputs = {\"messages\": [\"Hello\", \"World\"]}\n",
    "\n",
    "if messages := inputs.get(\"messages\", []):\n",
    "    print(f\"Found messages: {messages}\")\n",
    "else:\n",
    "    print(\"No messages found.\")\n",
    "\n",
    "inputs = {\"aaa\": [\"Hello\", \"World\"]}\n",
    "\n",
    "if messages := inputs.get(\"messages\", []):\n",
    "    print(f\"Found messages: {messages}\")\n",
    "else:\n",
    "    print(\"No messages found.\")\n",
    "\n",
    "\n",
    "# 上面的寫法等同於\n",
    "inputs = {\"messages\": [\"Hello\", \"World\"]}\n",
    "\n",
    "messages = inputs.get(\"messages\", [])\n",
    "if messages:\n",
    "    print(f\"Found messages: {messages}\")\n",
    "else:\n",
    "    print(\"No messages found.\")"
   ]
  },
  {
   "cell_type": "code",
   "execution_count": null,
   "metadata": {},
   "outputs": [
    {
     "data": {
      "text/plain": [
       "<langgraph.graph.state.StateGraph at 0x13bd5b0d0>"
      ]
     },
     "execution_count": 48,
     "metadata": {},
     "output_type": "execute_result"
    }
   ],
   "source": [
    "import json\n",
    "\n",
    "from langchain_core.messages import ToolMessage\n",
    "\n",
    "# 以下是一個原始的寫法\n",
    "# 之後會用 ToolNode 來取代\n",
    "\n",
    "\n",
    "class BasicToolNode:\n",
    "    \"\"\"A node that runs the tools requested in the last AIMessage.\"\"\"\n",
    "\n",
    "    def __init__(self, tools: list) -> None:\n",
    "        self.tools_by_name = {tool.name: tool for tool in tools}\n",
    "\n",
    "    def __call__(self, inputs: dict):\n",
    "        if messages := inputs.get(\"messages\", []):  # 這裡是新的寫法\n",
    "            message = messages[-1]\n",
    "        else:\n",
    "            raise ValueError(\"No message found in input\")\n",
    "        outputs = []\n",
    "        for tool_call in message.tool_calls:\n",
    "            tool_result = self.tools_by_name[tool_call[\"name\"]].invoke(\n",
    "                tool_call[\"args\"]\n",
    "            )\n",
    "            outputs.append(\n",
    "                ToolMessage(\n",
    "                    content=json.dumps(tool_result),\n",
    "                    name=tool_call[\"name\"],\n",
    "                    tool_call_id=tool_call[\"id\"],\n",
    "                )\n",
    "            )\n",
    "        return {\"messages\": outputs}\n",
    "\n",
    "\n",
    "# 這裡製作了一個將 message 輸入到 tools 中的 node\n",
    "# 當今天 agent 需要使用 tools 時，只需要將 tool 加入到 tools 參數中即可\n",
    "\n",
    "tool = TavilySearchResults(max_results=2)\n",
    "tool_node = BasicToolNode(tools=[tool])\n",
    "graph_builder.add_node(\"tools\", tool_node)"
   ]
  },
  {
   "cell_type": "code",
   "execution_count": 49,
   "metadata": {},
   "outputs": [],
   "source": [
    "# With the tool node added, we can define the conditional_edges.\n",
    "\n",
    "# Recall that edges route the control flow from one node to the next.\n",
    "# Conditional edges usually contain \"if\" statements to route to different nodes depending on the current graph state. These functions receive the current graph state and return a string or list of strings indicating which node(s) to call next.\n",
    "\n",
    "# Below, call define a router function called route_tools,\n",
    "# that checks for tool_calls in the chatbot's output. Provide this function to the graph by calling add_conditional_edges, which tells the graph that whenever the chatbot node completes to check this function to see where to go next.\n",
    "\n",
    "# The condition will route to tools if tool calls are present and END if not.\n",
    "\n",
    "# Later, we will replace this with the prebuilt tools_condition to be more concise,\n",
    "# but implementing it ourselves first makes things more clear.\n",
    "\n",
    "\n",
    "from typing import Literal\n",
    "\n",
    "\n",
    "def route_tools(\n",
    "    state: State,\n",
    "):\n",
    "    \"\"\"\n",
    "    Use in the conditional_edge to route to the ToolNode if the last message\n",
    "    has tool calls. Otherwise, route to the end.\n",
    "    \"\"\"\n",
    "    if isinstance(state, list):\n",
    "        ai_message = state[-1]\n",
    "    elif messages := state.get(\"messages\", []):\n",
    "        ai_message = messages[-1]\n",
    "    else:\n",
    "        raise ValueError(f\"No messages found in input state to tool_edge: {state}\")\n",
    "    if hasattr(ai_message, \"tool_calls\") and len(ai_message.tool_calls) > 0:\n",
    "        return \"tools\"\n",
    "    return END\n",
    "\n",
    "\n",
    "# The `tools_condition` function returns \"tools\" if the chatbot asks to use a tool, and \"END\" if\n",
    "# it is fine directly responding. This conditional routing defines the main agent loop.\n",
    "graph_builder.add_conditional_edges(\n",
    "    source=\"chatbot\",  # The node to check the condition on\n",
    "    path=route_tools,  # The function to check the condition\n",
    "    # The following dictionary lets you tell the graph to interpret the condition's outputs as a specific node\n",
    "    # It defaults to the identity function, but if you\n",
    "    # want to use a node named something else apart from \"tools\",\n",
    "    # You can update the value of the dictionary to something else\n",
    "    # e.g., \"tools\": \"my_tools\"\n",
    "    path_map={\n",
    "        \"tools\": \"tools\",\n",
    "        END: END,\n",
    "    },  # The mapping of the condition's outputs to nodes\n",
    ")\n",
    "# Any time a tool is called, we return to the chatbot to decide the next step\n",
    "graph_builder.add_edge(START, \"chatbot\")\n",
    "graph_builder.add_edge(\"tools\", \"chatbot\")\n",
    "graph = graph_builder.compile()"
   ]
  },
  {
   "cell_type": "code",
   "execution_count": 50,
   "metadata": {},
   "outputs": [
    {
     "data": {
      "image/png": "[encoded data removed]",
      "text/plain": [
       "<IPython.core.display.Image object>"
      ]
     },
     "metadata": {},
     "output_type": "display_data"
    }
   ],
   "source": [
    "from IPython.display import Image, display\n",
    "\n",
    "try:\n",
    "    display(Image(graph.get_graph().draw_mermaid_png()))\n",
    "except Exception:\n",
    "    # This requires some extra dependencies and is optional\n",
    "    pass"
   ]
  },
  {
   "cell_type": "code",
   "execution_count": 51,
   "metadata": {},
   "outputs": [
    {
     "name": "stdout",
     "output_type": "stream",
     "text": [
      "Assistant: \n",
      "Assistant: [{\"url\": \"https://www.cwa.gov.tw/V8/C/W/County/index.html\", \"content\": \"\\u7e23\\u5e02\\u9810\\u5831 | \\u4ea4\\u901a\\u90e8\\u4e2d\\u592e\\u6c23\\u8c61\\u7f72 \\u8df3\\u5230\\u4e3b\\u8981\\u5167\\u5bb9\\u5340\\u584a \\u9996\\u9801 \\u5929\\u6c23 \\u7e23\\u5e02\\u9810\\u5831 \\u7e23\\u5e02\\u9810\\u5831 \\u767c\\u4f48\\u6642\\u9593\\uff1a11/19 23:00 20~20__68~_68_\\u57fa\\u9686\\u5e0219~20__66~_68_\\u81fa\\u5317\\u5e0219~20__66~_68_\\u65b0\\u5317\\u5e0219~19__66~_66_\\u6843\\u5712\\u5e0220~20__68~_68_\\u65b0\\u7af9\\u5e0220~20__68~_68_\\u65b0\\u7af9\\u7e2319~20__66~_68_\\u82d7\\u6817\\u7e2321~21__70~_70_\\u81fa\\u4e2d\\u5e0221~21__70~_70_\\u5f70\\u5316\\u7e2320~21__68~_70_\\u5357\\u6295\\u7e2320~20__68~_68_\\u96f2\\u6797\\u7e2319~20__66~_68_\\u5609\\u7fa9\\u5e0219~20__66~_68_\\u5609\\u7fa9\\u7e2320~21__68~_70_\\u81fa\\u5357\\u5e0222~23__72~_73_\\u9ad8\\u96c4\\u5e0221~23__70~_73_\\u5c4f\\u6771\\u7e2319~19__66~_66_\\u5b9c\\u862d\\u7e2321~22__70~_72_\\u82b1\\u84ee\\u7e2322~22__72~_72_\\u81fa\\u6771\\u7e2321~22__70~_72_\\u6f8e\\u6e56\\u7e2317~17__63~_63_\\u91d1\\u9580\\u7e2317~17__63~_63_\\u9023\\u6c5f\\u7e23 \\u9ede\\u64ca\\u5730\\u5716\\u770b\\u5404\\u7e23\\u5e02\\u8a73\\u7d30\\u8cc7\\u6599 \\u9644\\u8a3b \\u5404\\u7e23\\u5e02\\u9810\\u5831\\u4fc2\\u4ee5\\u5404\\u7e23\\u5e02\\u653f\\u5e9c\\u6240\\u5728\\u5730\\u9644\\u8fd1\\u70ba\\u9810\\u5831\\u53c3\\u8003\\u4f4d\\u7f6e\\u3002 \\u767d\\u5929\\u4ee3\\u88686\\u6642\\u81f318\\u6642\\uff0c\\u665a\\u4e0a\\u4ee3\\u886818\\u6642\\u81f3\\u9694\\u65e56\\u6642\\u3002\\u60df\\u4eca\\u65e5\\u767d\\u5929\\u9810\\u5831\\u6642\\u6bb5\\u6703\\u6efe\\u52d5\\u66f4\\u65b0\\u3002 \\u9ad8\\u4f4e\\u6c23\\u6eab\\u51fa\\u73fe\\u540c\\u503c\\u6642\\uff0c\\u8868\\u793a\\u5169\\u8005\\u5dee\\u8ddd\\u57281\\u2103\\u4ee5\\u5167\\u3002 \\u4eca\\u660e \\u4e00\\u9031 \\u4eca\\u665a\\u660e\\u6668 \\u660e\\u65e5\\u767d\\u5929 \\u660e\\u65e5\\u665a\\u4e0a \\u767d\\u5929 \\u665a\\u4e0a 11/20-00:00 ~ 11/20-06:00 \\u9ede\\u64ca\\u7e23\\u5e02\\u540d\\u7a31\\u770b\\u8a73\\u7d30\\u8cc7\\u6599 \\u57fa\\u9686\\u5e0220~20__68~_68_80% \\u81fa\\u5317\\u5e0219~20__66~_68_50% \\u65b0\\u5317\\u5e0219~20__66~_68_50% \\u6843\\u5712\\u5e0219~19__66~_66_50% \\u65b0\\u7af9\\u5e0220~20__68~_68_40% \\u65b0\\u7af9\\u7e2320~20__68~_68_40% \\u82d7\\u6817\\u7e2319~20__66~_68_40% \\u81fa\\u4e2d\\u5e0221~21__70~_70_40% \\u5f70\\u5316\\u7e2321~21__70~_70_40% \\u5357\\u6295\\u7e2320~21__68~_70_20% \\u96f2\\u6797\\u7e2320~20__68~_68_20% \\u5609\\u7fa9\\u5e0219~20__66~_68_40% \\u5609\\u7fa9\\u7e2319~20__66~_68_20% \\u81fa\\u5357\\u5e0220~21__68~_70_20% \\u9ad8\\u96c4\\u5e0222~23__72~_73_20% \\u5c4f\\u6771\\u7e2321~23__70~_73_20% \\u5b9c\\u862d\\u7e2319~19__66~_66_80% \\u82b1\\u84ee\\u7e2321~22__70~_72_20% \\u81fa\\u6771\\u7e2322~22__72~_72_40% \\u6f8e\\u6e56\\u7e2321~22__70~_72_20% \\u91d1\\u9580\\u7e2317~17__63~_63_40% \\u9023\\u6c5f\\u7e2317~17__63~_63_20% \\u9644\\u8a3b \\u5404\\u7e23\\u5e02\\u9810\\u5831\\u4fc2\\u4ee5\\u5404\\u7e23\\u5e02\\u653f\\u5e9c\\u6240\\u5728\\u5730\\u9644\\u8fd1\\u70ba\\u9810\\u5831\\u53c3\\u8003\\u4f4d\\u7f6e\\u3002 \\u767d\\u5929\\u4ee3\\u88686\\u6642\\u81f318\\u6642\\uff0c\\u665a\\u4e0a\\u4ee3\\u886818\\u6642\\u81f3\\u9694\\u65e56\\u6642\\u3002\\u60df\\u4eca\\u65e5\\u767d\\u5929\\u9810\\u5831\\u6642\\u6bb5\\u6703\\u6efe\\u52d5\\u66f4\\u65b0\\u3002 \\u9ad8\\u4f4e\\u6c23\\u6eab\\u51fa\\u73fe\\u540c\\u503c\\u6642\\uff0c\\u8868\\u793a\\u5169\\u8005\\u5dee\\u8ddd\\u57281\\u2103\\u4ee5\\u5167\\u3002\"}, {\"url\": \"https://www.cwa.gov.tw/V8/C/W/week.html\", \"content\": \"\\u4e2d\\u592e\\u6c23\\u8c61\\u7f72\\u63d0\\u4f9b\\u4e00\\u9031\\u5929\\u6c23\\u9810\\u5831\\uff0c\\u5305\\u542b\\u5404\\u5730\\u5340\\u7684\\u5929\\u6c23\\u72c0\\u6cc1\\u548c\\u672a\\u4f86\\u8da8\\u52e2\\u3002\"}]\n",
      "Assistant: 您可以查看明天的天气预报，以下是一些相关链接：\n",
      "\n",
      "1. [中央气象局 - 各县市天气预报](https://www.cwa.gov.tw/V8/C/W/County/index.html)：提供各个县市的详细天气预报。\n",
      "   \n",
      "2. [中央气象局 - 一周天气预报](https://www.cwa.gov.tw/V8/C/W/week.html)：提供包括明天在内的一周天气预报。\n",
      "\n",
      "请访问这些链接以获取最新的天气信息。\n",
      "Assistant: \n",
      "Assistant: [{\"url\": \"https://weather.com/zh-TW/weather/tenday/l/Dongrong+Taipei?canonicalCityId=d7a30822715ad1b2572c83dce89530df3e4fae10abff541b08d7c5f36764ec3f\", \"content\": \"\\u5927\\u90e8\\u6674\\u6717\\u3002 \\u4f4e\\u6eab13\\u00b0C\\u3002 10 \\u523015 \\u516c\\u91cc/\\u5c0f\\u6642\\u7684\\u6771\\u5357\\u6771\\u98a8\\u3002 \\u6fd5\\u5ea673%. \\u7d2b\\u5916\\u7dda\\u6307\\u65780 (\\u6700\\u5927\\u503c11). \\u6708\\u51fa02:37. \\u6b98\\u6708. \\u6708\\u6c9214:24. \\u9031\\u56db28. 20\\u00b0/12\\u00b0. 5%. \\u9031\\u56db28 | \\u767d\\u5929.\"}, {\"url\": \"https://www.accuweather.com/zh/tw/taipei-city/315078/hourly-weather-forecast/315078\", \"content\": \"\\u4e0b\\u534810\\u65f6 ; \\u9732\\u9ede50\\u00b0 F ; \\u96f2\\u5c6470% ; \\u964d\\u96e80.03\\u82f1\\u5bf8 ; \\u80fd\\u898b\\u5ea66\\u82f1\\u91cc ; \\u96f2\\u51aa6000\\u82f1\\u5c3a\"}]\n",
      "Assistant: 明天台北的氣溫預測如下：\n",
      "\n",
      "- **最低氣溫**：13°C\n",
      "- **天氣**：大部分晴朗\n",
      "- **濕度**：約73%\n",
      "- **風速**：東南風10至15公里每小時\n",
      "\n",
      "您可以查看更詳細的天氣預報：[Weather.com](https://weather.com/zh-TW/weather/tenday/l/Dongrong+Taipei?canonicalCityId=d7a30822715ad1b2572c83dce89530df3e4fae10abff541b08d7c5f36764ec3f) 或 [AccuWeather](https://www.accuweather.com/zh/tw/taipei-city/315078/hourly-weather-forecast/315078)。\n",
      "Goodbye!\n"
     ]
    }
   ],
   "source": [
    "while True:\n",
    "    try:\n",
    "        user_input = input(\"User: \")\n",
    "        if user_input.lower() in [\"quit\", \"exit\", \"q\"]:\n",
    "            print(\"Goodbye!\")\n",
    "            break\n",
    "\n",
    "        stream_graph_updates(user_input)\n",
    "    except:\n",
    "        # fallback if input() is not available\n",
    "        user_input = \"What do you know about LangGraph?\"\n",
    "        print(\"User: \" + user_input)\n",
    "        stream_graph_updates(user_input)\n",
    "        break"
   ]
  },
  {
   "cell_type": "markdown",
   "metadata": {},
   "source": [
    "### Part 3: Adding Memory to the Chatbot¶\n"
   ]
  },
  {
   "cell_type": "code",
   "execution_count": 55,
   "metadata": {},
   "outputs": [
    {
     "data": {
      "text/plain": [
       "<langgraph.graph.state.StateGraph at 0x13c5471d0>"
      ]
     },
     "execution_count": 55,
     "metadata": {},
     "output_type": "execute_result"
    }
   ],
   "source": [
    "from typing import Annotated\n",
    "\n",
    "from langchain_community.tools.tavily_search import TavilySearchResults\n",
    "from langchain_core.messages import BaseMessage\n",
    "from typing_extensions import TypedDict\n",
    "\n",
    "from langgraph.graph import StateGraph, START, END\n",
    "from langgraph.graph.message import add_messages\n",
    "from langgraph.prebuilt import ToolNode, tools_condition\n",
    "\n",
    "\n",
    "class State(TypedDict):\n",
    "    messages: Annotated[list, add_messages]\n",
    "\n",
    "\n",
    "graph_builder = StateGraph(State)\n",
    "\n",
    "\n",
    "tool = TavilySearchResults(max_results=2)\n",
    "tools = [tool]\n",
    "llm_with_tools = llm.bind_tools(tools)\n",
    "\n",
    "\n",
    "def chatbot(state: State):\n",
    "    return {\"messages\": [llm_with_tools.invoke(state[\"messages\"])]}\n",
    "\n",
    "\n",
    "graph_builder.add_node(\"chatbot\", chatbot)\n",
    "\n",
    "tool_node = ToolNode(tools=[tool])  # 這裡使用了 ToolNode 來取代之前的 BasicToolNode\n",
    "\n",
    "graph_builder.add_node(\"tools\", tool_node)\n",
    "\n",
    "graph_builder.add_conditional_edges(\n",
    "    \"chatbot\",\n",
    "    tools_condition,  # 這裡使用了 tools_condition 來取代之前的 route_tools\n",
    ")\n",
    "# Any time a tool is called, we return to the chatbot to decide the next step\n",
    "graph_builder.add_edge(START, \"chatbot\")\n",
    "graph_builder.add_edge(\"tools\", \"chatbot\")"
   ]
  },
  {
   "cell_type": "code",
   "execution_count": 56,
   "metadata": {},
   "outputs": [],
   "source": [
    "from langgraph.checkpoint.memory import MemorySaver\n",
    "\n",
    "memory = MemorySaver()\n",
    "\n",
    "graph = graph_builder.compile(checkpointer=memory)"
   ]
  },
  {
   "cell_type": "code",
   "execution_count": 57,
   "metadata": {},
   "outputs": [
    {
     "data": {
      "image/png": "[encoded data removed]",
      "text/plain": [
       "<IPython.core.display.Image object>"
      ]
     },
     "metadata": {},
     "output_type": "display_data"
    }
   ],
   "source": [
    "from IPython.display import Image, display\n",
    "\n",
    "try:\n",
    "    display(Image(graph.get_graph().draw_mermaid_png()))\n",
    "except Exception:\n",
    "    # This requires some extra dependencies and is optional\n",
    "    pass"
   ]
  },
  {
   "cell_type": "code",
   "execution_count": 58,
   "metadata": {},
   "outputs": [],
   "source": [
    "# 我們要設定一個 thread_id 來讓 graph 記住每個對話的狀態\n",
    "\n",
    "config = {\"configurable\": {\"thread_id\": \"1\"}}"
   ]
  },
  {
   "cell_type": "code",
   "execution_count": 59,
   "metadata": {},
   "outputs": [
    {
     "name": "stdout",
     "output_type": "stream",
     "text": [
      "================================\u001b[1m Human Message \u001b[0m=================================\n",
      "\n",
      "Hi there! My name is Will.\n",
      "==================================\u001b[1m Ai Message \u001b[0m==================================\n",
      "\n",
      "Hello, Will! How can I assist you today?\n"
     ]
    }
   ],
   "source": [
    "user_input = \"Hi there! My name is Will.\"\n",
    "\n",
    "# The config is the **second positional argument** to stream() or invoke()!\n",
    "events = graph.stream(\n",
    "    {\"messages\": [(\"user\", user_input)]}, config, stream_mode=\"values\"\n",
    ")\n",
    "for event in events:\n",
    "    event[\"messages\"][-1].pretty_print()"
   ]
  },
  {
   "cell_type": "code",
   "execution_count": 60,
   "metadata": {},
   "outputs": [
    {
     "name": "stdout",
     "output_type": "stream",
     "text": [
      "================================\u001b[1m Human Message \u001b[0m=================================\n",
      "\n",
      "Remember my name?\n",
      "==================================\u001b[1m Ai Message \u001b[0m==================================\n",
      "\n",
      "Yes, I remember your name, Will! How can I help you today?\n"
     ]
    }
   ],
   "source": [
    "user_input = \"Remember my name?\"\n",
    "\n",
    "# The config is the **second positional argument** to stream() or invoke()!\n",
    "events = graph.stream(\n",
    "    {\"messages\": [(\"user\", user_input)]}, config, stream_mode=\"values\"\n",
    ")\n",
    "for event in events:\n",
    "    event[\"messages\"][-1].pretty_print()"
   ]
  },
  {
   "cell_type": "markdown",
   "metadata": {},
   "source": [
    "接著我們把 thread 給換掉，看看是否能夠獲取我的記憶。"
   ]
  },
  {
   "cell_type": "code",
   "execution_count": 61,
   "metadata": {},
   "outputs": [
    {
     "name": "stdout",
     "output_type": "stream",
     "text": [
      "================================\u001b[1m Human Message \u001b[0m=================================\n",
      "\n",
      "Remember my name?\n",
      "==================================\u001b[1m Ai Message \u001b[0m==================================\n",
      "\n",
      "I don't have the ability to remember past interactions or personal details, including names. However, I'm here to help you with any questions or topics you'd like to discuss!\n"
     ]
    }
   ],
   "source": [
    "events = graph.stream(\n",
    "    {\"messages\": [(\"user\", user_input)]},\n",
    "    {\"configurable\": {\"thread_id\": \"2\"}},\n",
    "    stream_mode=\"values\",\n",
    ")\n",
    "for event in events:\n",
    "    event[\"messages\"][-1].pretty_print()"
   ]
  },
  {
   "cell_type": "code",
   "execution_count": 63,
   "metadata": {},
   "outputs": [
    {
     "data": {
      "text/plain": [
       "StateSnapshot(values={'messages': [HumanMessage(content='Hi there! My name is Will.', additional_kwargs={}, response_metadata={}, id='5f89a561-42ca-428e-b3ee-cf430d58bfef'), AIMessage(content='Hello, Will! How can I assist you today?', additional_kwargs={'refusal': None}, response_metadata={'token_usage': {'completion_tokens': 12, 'prompt_tokens': 87, 'total_tokens': 99, 'completion_tokens_details': {'accepted_prediction_tokens': 0, 'audio_tokens': 0, 'reasoning_tokens': 0, 'rejected_prediction_tokens': 0}, 'prompt_tokens_details': {'audio_tokens': 0, 'cached_tokens': 0}}, 'model_name': 'gpt-4o-mini-2024-07-18', 'system_fingerprint': 'fp_0705bf87c0', 'finish_reason': 'stop', 'logprobs': None}, id='run-7be44b84-92e2-40b6-820c-cac1eb69b00b-0', usage_metadata={'input_tokens': 87, 'output_tokens': 12, 'total_tokens': 99, 'input_token_details': {'audio': 0, 'cache_read': 0}, 'output_token_details': {'audio': 0, 'reasoning': 0}}), HumanMessage(content='Remember my name?', additional_kwargs={}, response_metadata={}, id='be7e7bf8-9bd1-4d41-b2a7-7c0553bd6892'), AIMessage(content='Yes, I remember your name, Will! How can I help you today?', additional_kwargs={'refusal': None}, response_metadata={'token_usage': {'completion_tokens': 17, 'prompt_tokens': 110, 'total_tokens': 127, 'completion_tokens_details': {'accepted_prediction_tokens': 0, 'audio_tokens': 0, 'reasoning_tokens': 0, 'rejected_prediction_tokens': 0}, 'prompt_tokens_details': {'audio_tokens': 0, 'cached_tokens': 0}}, 'model_name': 'gpt-4o-mini-2024-07-18', 'system_fingerprint': 'fp_0705bf87c0', 'finish_reason': 'stop', 'logprobs': None}, id='run-a2c72a78-e3f5-4f66-ba9d-44ae7219a871-0', usage_metadata={'input_tokens': 110, 'output_tokens': 17, 'total_tokens': 127, 'input_token_details': {'audio': 0, 'cache_read': 0}, 'output_token_details': {'audio': 0, 'reasoning': 0}})]}, next=(), config={'configurable': {'thread_id': '1', 'checkpoint_ns': '', 'checkpoint_id': '1efaccda-8ecb-6a08-8004-0dd94be33e44'}}, metadata={'source': 'loop', 'writes': {'chatbot': {'messages': [AIMessage(content='Yes, I remember your name, Will! How can I help you today?', additional_kwargs={'refusal': None}, response_metadata={'token_usage': {'completion_tokens': 17, 'prompt_tokens': 110, 'total_tokens': 127, 'completion_tokens_details': {'accepted_prediction_tokens': 0, 'audio_tokens': 0, 'reasoning_tokens': 0, 'rejected_prediction_tokens': 0}, 'prompt_tokens_details': {'audio_tokens': 0, 'cached_tokens': 0}}, 'model_name': 'gpt-4o-mini-2024-07-18', 'system_fingerprint': 'fp_0705bf87c0', 'finish_reason': 'stop', 'logprobs': None}, id='run-a2c72a78-e3f5-4f66-ba9d-44ae7219a871-0', usage_metadata={'input_tokens': 110, 'output_tokens': 17, 'total_tokens': 127, 'input_token_details': {'audio': 0, 'cache_read': 0}, 'output_token_details': {'audio': 0, 'reasoning': 0}})]}}, 'thread_id': '1', 'step': 4, 'parents': {}}, created_at='2024-11-27T14:41:17.413407+00:00', parent_config={'configurable': {'thread_id': '1', 'checkpoint_ns': '', 'checkpoint_id': '1efaccda-8691-63e2-8003-4d7ca6d36220'}}, tasks=())"
      ]
     },
     "execution_count": 63,
     "metadata": {},
     "output_type": "execute_result"
    }
   ],
   "source": [
    "config = {\"configurable\": {\"thread_id\": \"1\"}}\n",
    "\n",
    "snapshot = graph.get_state(config)\n",
    "snapshot"
   ]
  },
  {
   "cell_type": "code",
   "execution_count": 66,
   "metadata": {},
   "outputs": [
    {
     "data": {
      "text/plain": [
       "StateSnapshot(values={'messages': [HumanMessage(content='Remember my name?', additional_kwargs={}, response_metadata={}, id='ad97d098-f940-4d23-a137-b512cebf3fb3'), AIMessage(content=\"I don't have the ability to remember past interactions or personal details, including names. However, I'm here to help you with any questions or topics you'd like to discuss!\", additional_kwargs={'refusal': None}, response_metadata={'token_usage': {'completion_tokens': 34, 'prompt_tokens': 83, 'total_tokens': 117, 'completion_tokens_details': {'accepted_prediction_tokens': 0, 'audio_tokens': 0, 'reasoning_tokens': 0, 'rejected_prediction_tokens': 0}, 'prompt_tokens_details': {'audio_tokens': 0, 'cached_tokens': 0}}, 'model_name': 'gpt-4o-mini-2024-07-18', 'system_fingerprint': 'fp_0705bf87c0', 'finish_reason': 'stop', 'logprobs': None}, id='run-5780f3b1-d343-40fe-968f-788ca7be3908-0', usage_metadata={'input_tokens': 83, 'output_tokens': 34, 'total_tokens': 117, 'input_token_details': {'audio': 0, 'cache_read': 0}, 'output_token_details': {'audio': 0, 'reasoning': 0}})]}, next=(), config={'configurable': {'thread_id': '2', 'checkpoint_ns': '', 'checkpoint_id': '1efaccdb-0725-672e-8001-b840b7961470'}}, metadata={'source': 'loop', 'writes': {'chatbot': {'messages': [AIMessage(content=\"I don't have the ability to remember past interactions or personal details, including names. However, I'm here to help you with any questions or topics you'd like to discuss!\", additional_kwargs={'refusal': None}, response_metadata={'token_usage': {'completion_tokens': 34, 'prompt_tokens': 83, 'total_tokens': 117, 'completion_tokens_details': {'accepted_prediction_tokens': 0, 'audio_tokens': 0, 'reasoning_tokens': 0, 'rejected_prediction_tokens': 0}, 'prompt_tokens_details': {'audio_tokens': 0, 'cached_tokens': 0}}, 'model_name': 'gpt-4o-mini-2024-07-18', 'system_fingerprint': 'fp_0705bf87c0', 'finish_reason': 'stop', 'logprobs': None}, id='run-5780f3b1-d343-40fe-968f-788ca7be3908-0', usage_metadata={'input_tokens': 83, 'output_tokens': 34, 'total_tokens': 117, 'input_token_details': {'audio': 0, 'cache_read': 0}, 'output_token_details': {'audio': 0, 'reasoning': 0}})]}}, 'thread_id': '2', 'step': 1, 'parents': {}}, created_at='2024-11-27T14:41:30.033103+00:00', parent_config={'configurable': {'thread_id': '2', 'checkpoint_ns': '', 'checkpoint_id': '1efaccda-fd82-6230-8000-0ff4544a1ac0'}}, tasks=())"
      ]
     },
     "execution_count": 66,
     "metadata": {},
     "output_type": "execute_result"
    }
   ],
   "source": [
    "# 調換不同記憶\n",
    "config = {\"configurable\": {\"thread_id\": \"2\"}}\n",
    "\n",
    "snapshot = graph.get_state(config)\n",
    "snapshot"
   ]
  },
  {
   "cell_type": "markdown",
   "metadata": {},
   "source": [
    "### Part 4: Human-in-the-loop¶\n"
   ]
  },
  {
   "cell_type": "markdown",
   "metadata": {},
   "source": [
    "顧名思義，就是我們想要在過程中，加入人類的確認，可能是檢查或是進行狀態的修改。"
   ]
  },
  {
   "cell_type": "code",
   "execution_count": 67,
   "metadata": {},
   "outputs": [
    {
     "data": {
      "text/plain": [
       "<langgraph.graph.state.StateGraph at 0x13bd137d0>"
      ]
     },
     "execution_count": 67,
     "metadata": {},
     "output_type": "execute_result"
    }
   ],
   "source": [
    "from typing import Annotated\n",
    "\n",
    "from langchain_community.tools.tavily_search import TavilySearchResults\n",
    "from langchain_core.messages import BaseMessage\n",
    "from typing_extensions import TypedDict\n",
    "\n",
    "from langgraph.graph import StateGraph, START, END\n",
    "from langgraph.graph.message import add_messages\n",
    "from langgraph.prebuilt import ToolNode, tools_condition\n",
    "\n",
    "\n",
    "class State(TypedDict):\n",
    "    messages: Annotated[list, add_messages]\n",
    "\n",
    "\n",
    "graph_builder = StateGraph(State)\n",
    "\n",
    "\n",
    "tool = TavilySearchResults(max_results=2)\n",
    "tools = [tool]\n",
    "llm_with_tools = llm.bind_tools(tools)\n",
    "\n",
    "\n",
    "def chatbot(state: State):\n",
    "    return {\"messages\": [llm_with_tools.invoke(state[\"messages\"])]}\n",
    "\n",
    "\n",
    "graph_builder.add_node(\"chatbot\", chatbot)\n",
    "\n",
    "tool_node = ToolNode(tools=[tool])  # 這裡使用了 ToolNode 來取代之前的 BasicToolNode\n",
    "\n",
    "graph_builder.add_node(\"tools\", tool_node)\n",
    "\n",
    "graph_builder.add_conditional_edges(\n",
    "    \"chatbot\",\n",
    "    tools_condition,  # 這裡使用了 tools_condition 來取代之前的 route_tools\n",
    ")\n",
    "# Any time a tool is called, we return to the chatbot to decide the next step\n",
    "graph_builder.add_edge(START, \"chatbot\")\n",
    "graph_builder.add_edge(\"tools\", \"chatbot\")"
   ]
  },
  {
   "cell_type": "code",
   "execution_count": 69,
   "metadata": {},
   "outputs": [],
   "source": [
    "from langgraph.checkpoint.memory import MemorySaver\n",
    "\n",
    "memory = MemorySaver()\n",
    "\n",
    "graph = graph_builder.compile(\n",
    "    checkpointer=memory,\n",
    "    # This is new!\n",
    "    interrupt_before=[\n",
    "        \"tools\"\n",
    "    ],  # 新增 interrupt_before ，再看到 tools 時先不要執行，停下來讓人類進行回饋。也可以是 interrupt_after=[\"tools\"]\n",
    ")"
   ]
  },
  {
   "cell_type": "code",
   "execution_count": 70,
   "metadata": {},
   "outputs": [
    {
     "name": "stdout",
     "output_type": "stream",
     "text": [
      "================================\u001b[1m Human Message \u001b[0m=================================\n",
      "\n",
      "I'm learning LangGraph. Could you do some research on it for me?\n",
      "==================================\u001b[1m Ai Message \u001b[0m==================================\n",
      "Tool Calls:\n",
      "  tavily_search_results_json (call_1Ggn2fhSomBTf1AYpstpzd2W)\n",
      " Call ID: call_1Ggn2fhSomBTf1AYpstpzd2W\n",
      "  Args:\n",
      "    query: LangGraph\n"
     ]
    }
   ],
   "source": [
    "user_input = \"I'm learning LangGraph. Could you do some research on it for me?\"\n",
    "config = {\"configurable\": {\"thread_id\": \"1\"}}\n",
    "# The config is the **second positional argument** to stream() or invoke()!\n",
    "events = graph.stream(\n",
    "    {\"messages\": [(\"user\", user_input)]}, config, stream_mode=\"values\"\n",
    ")\n",
    "for event in events:\n",
    "    if \"messages\" in event:\n",
    "        event[\"messages\"][-1].pretty_print()"
   ]
  },
  {
   "cell_type": "code",
   "execution_count": null,
   "metadata": {},
   "outputs": [
    {
     "name": "stdout",
     "output_type": "stream",
     "text": [
      "Current state: content='' additional_kwargs={'tool_calls': [{'id': 'call_1Ggn2fhSomBTf1AYpstpzd2W', 'function': {'arguments': '{\"query\":\"LangGraph\"}', 'name': 'tavily_search_results_json'}, 'type': 'function'}], 'refusal': None} response_metadata={'token_usage': {'completion_tokens': 19, 'prompt_tokens': 94, 'total_tokens': 113, 'completion_tokens_details': {'accepted_prediction_tokens': 0, 'audio_tokens': 0, 'reasoning_tokens': 0, 'rejected_prediction_tokens': 0}, 'prompt_tokens_details': {'audio_tokens': 0, 'cached_tokens': 0}}, 'model_name': 'gpt-4o-mini-2024-07-18', 'system_fingerprint': 'fp_0705bf87c0', 'finish_reason': 'tool_calls', 'logprobs': None} id='run-5917bc1b-aa62-4848-953f-a71b3115d7e4-0' tool_calls=[{'name': 'tavily_search_results_json', 'args': {'query': 'LangGraph'}, 'id': 'call_1Ggn2fhSomBTf1AYpstpzd2W', 'type': 'tool_call'}] usage_metadata={'input_tokens': 94, 'output_tokens': 19, 'total_tokens': 113, 'input_token_details': {'audio': 0, 'cache_read': 0}, 'output_token_details': {'audio': 0, 'reasoning': 0}}\n",
      "Next state: ('tools',)\n"
     ]
    }
   ],
   "source": [
    "# 我們來看看目前 graph 運作到哪一步（哪一個狀態）\n",
    "\n",
    "snapshot = graph.get_state(config)\n",
    "print(f\"Current state: {snapshot.values['messages'][-1]}\")\n",
    "print(f\"Next state: {snapshot.next}\")\n",
    "\n",
    "# 沒錯，我們可以看到下一個狀態是 tools"
   ]
  },
  {
   "cell_type": "code",
   "execution_count": 83,
   "metadata": {},
   "outputs": [
    {
     "name": "stdout",
     "output_type": "stream",
     "text": [
      "==================================\u001b[1m Ai Message \u001b[0m==================================\n",
      "\n",
      "Here are some resources and key information about LangGraph:\n",
      "\n",
      "1. **Overview of LangGraph**:\n",
      "   - LangGraph is a library in the LangChain ecosystem designed to simplify the development of complex, multi-agent large language model (LLM) applications. It facilitates the creation of stateful, flexible, and scalable systems through a structure of nodes, edges, and state management.\n",
      "   - [Read more here](https://www.datacamp.com/tutorial/langgraph-tutorial).\n",
      "\n",
      "2. **Features**:\n",
      "   - It is a low-level framework that enables developers to create stateful, multi-actor applications with LLMs.\n",
      "   - It supports features such as cycles, controllability, and persistence, making it suitable for building sophisticated agent and multi-agent workflows.\n",
      "   - [Learn more about its features](https://langchain-ai.github.io/langgraph/).\n",
      "\n",
      "These resources will provide you with a solid foundation to start learning about LangGraph and its capabilities within the LangChain ecosystem.\n"
     ]
    }
   ],
   "source": [
    "# 要如何從剛剛的起點重新開始呢？\n",
    "# 我們可以使用 `None` 重入剛剛的 graph，讓它繼續執行\n",
    "\n",
    "# `None` will append nothing new to the current state, letting it resume as if it had never been interrupted\n",
    "events = graph.stream(None, config, stream_mode=\"values\")\n",
    "for event in events:\n",
    "    if \"messages\" in event:\n",
    "        event[\"messages\"][-1].pretty_print()"
   ]
  },
  {
   "cell_type": "markdown",
   "metadata": {},
   "source": [
    "### Part 5: Manually Updating the State"
   ]
  },
  {
   "cell_type": "markdown",
   "metadata": {},
   "source": [
    "剛剛只是打斷，如果說真的要改一些東西呢？"
   ]
  },
  {
   "cell_type": "code",
   "execution_count": null,
   "metadata": {},
   "outputs": [],
   "source": [
    "from typing import Annotated\n",
    "\n",
    "from langchain_community.tools.tavily_search import TavilySearchResults\n",
    "from langchain_core.messages import BaseMessage\n",
    "from typing_extensions import TypedDict\n",
    "\n",
    "from langgraph.graph import StateGraph, START, END\n",
    "from langgraph.graph.message import add_messages\n",
    "from langgraph.prebuilt import ToolNode, tools_condition\n",
    "\n",
    "#### Define the state schema ####\n",
    "\n",
    "\n",
    "class State(TypedDict):\n",
    "    messages: Annotated[list, add_messages]\n",
    "\n",
    "\n",
    "# We annotated messages with the pre-built add_messages function.\n",
    "# This instructs the graph to always append values to the existing list,\n",
    "# rather than overwriting the list directly. The same logic is applied here,\n",
    "# so the messages we passed to update_state were appended in the same way!\n",
    "\n",
    "\n",
    "graph_builder = StateGraph(State)\n",
    "\n",
    "\n",
    "tool = TavilySearchResults(max_results=2)\n",
    "tools = [tool]\n",
    "llm_with_tools = llm.bind_tools(tools)\n",
    "\n",
    "\n",
    "def chatbot(state: State):\n",
    "    return {\"messages\": [llm_with_tools.invoke(state[\"messages\"])]}\n",
    "\n",
    "\n",
    "graph_builder.add_node(\"chatbot\", chatbot)\n",
    "\n",
    "tool_node = ToolNode(tools=[tool])  # 這裡使用了 ToolNode 來取代之前的 BasicToolNode\n",
    "\n",
    "graph_builder.add_node(\"tools\", tool_node)\n",
    "\n",
    "graph_builder.add_conditional_edges(\n",
    "    \"chatbot\",\n",
    "    tools_condition,  # 這裡使用了 tools_condition 來取代之前的 route_tools\n",
    ")\n",
    "# Any time a tool is called, we return to the chatbot to decide the next step\n",
    "graph_builder.add_edge(START, \"chatbot\")\n",
    "graph_builder.add_edge(\"tools\", \"chatbot\")\n",
    "\n",
    "memory = MemorySaver()\n",
    "graph = graph_builder.compile(\n",
    "    checkpointer=memory,\n",
    "    # This is new!\n",
    "    interrupt_before=[\"tools\"],\n",
    "    # Note: can also interrupt **after** actions, if desired.\n",
    "    # interrupt_after=[\"tools\"]\n",
    ")\n",
    "\n",
    "user_input = \"I'm learning LangGraph. Could you do some research on it for me?\"\n",
    "config = {\"configurable\": {\"thread_id\": \"1\"}}\n",
    "# The config is the **second positional argument** to stream() or invoke()!\n",
    "events = graph.stream({\"messages\": [(\"user\", user_input)]}, config)\n",
    "for event in events:\n",
    "    if \"messages\" in event:\n",
    "        event[\"messages\"][-1].pretty_print()"
   ]
  },
  {
   "cell_type": "code",
   "execution_count": 86,
   "metadata": {},
   "outputs": [
    {
     "name": "stdout",
     "output_type": "stream",
     "text": [
      "==================================\u001b[1m Ai Message \u001b[0m==================================\n",
      "Tool Calls:\n",
      "  tavily_search_results_json (call_rhVmwhBNHjAywmC0PGFsIdia)\n",
      " Call ID: call_rhVmwhBNHjAywmC0PGFsIdia\n",
      "  Args:\n",
      "    query: LangGraph\n"
     ]
    }
   ],
   "source": [
    "snapshot = graph.get_state(config)\n",
    "existing_message = snapshot.values[\"messages\"][-1]\n",
    "existing_message.pretty_print()"
   ]
  },
  {
   "cell_type": "markdown",
   "metadata": {},
   "source": [
    "下一個階段，LLM 就準備要呼叫搜尋引擎了！\n",
    "可是我們的問題並不需要搜尋引擎，我們要如何中途手動修改狀態呢？"
   ]
  },
  {
   "cell_type": "markdown",
   "metadata": {},
   "source": [
    "我們直接將答案丟給 LLM，並且跳過搜尋引擎的過程。"
   ]
  },
  {
   "cell_type": "code",
   "execution_count": 89,
   "metadata": {},
   "outputs": [
    {
     "name": "stdout",
     "output_type": "stream",
     "text": [
      "==================================\u001b[1m Ai Message \u001b[0m==================================\n",
      "\n",
      "LangGraph is a library for building stateful, multi-actor applications with LLMs.\n"
     ]
    }
   ],
   "source": [
    "from langchain_core.messages import AIMessage, ToolMessage\n",
    "\n",
    "answer = (\n",
    "    \"LangGraph is a library for building stateful, multi-actor applications with LLMs.\"\n",
    ")\n",
    "new_messages = [\n",
    "    # The LLM API expects some ToolMessage to match its tool call. We'll satisfy that here.\n",
    "    ToolMessage(\n",
    "        content=answer, tool_call_id=existing_message.tool_calls[0][\"id\"]\n",
    "    ),  # 模擬 tool 的回應\n",
    "    # And then directly \"put words in the LLM's mouth\" by populating its response.\n",
    "    AIMessage(content=answer),  # 模擬 LLM 的回應\n",
    "]\n",
    "\n",
    "new_messages[-1].pretty_print()"
   ]
  },
  {
   "cell_type": "code",
   "execution_count": 91,
   "metadata": {},
   "outputs": [
    {
     "name": "stdout",
     "output_type": "stream",
     "text": [
      "\n",
      "\n",
      "Last 2 messages;\n",
      "[ToolMessage(content='LangGraph is a library for building stateful, multi-actor applications with LLMs.', id='b8739dbf-7f0e-4754-a35c-3aeebfab75e5', tool_call_id='call_rhVmwhBNHjAywmC0PGFsIdia'), AIMessage(content='LangGraph is a library for building stateful, multi-actor applications with LLMs.', additional_kwargs={}, response_metadata={}, id='52737050-67df-4b12-98e0-42ce3a855216')]\n"
     ]
    }
   ],
   "source": [
    "graph.update_state(\n",
    "    # Which state to update\n",
    "    config,\n",
    "    # The updated values to provide. The messages in our `State` are \"append-only\", meaning this will be appended\n",
    "    # to the existing state. We will review how to update existing messages in the next section!\n",
    "    {\"messages\": new_messages},\n",
    "    # Which node for this function to act as. It will automatically continue\n",
    "    # processing as if this node just ran.\n",
    "    as_node=\"chatbot\",  # 就很像是我們要假裝我們是 graph 中的某個 node 一樣，我們在這裡假裝我們是 chatbot 的意思\n",
    ")\n",
    "\n",
    "print(\"\\n\\nLast 2 messages;\")\n",
    "print(graph.get_state(config).values[\"messages\"][-2:])"
   ]
  },
  {
   "cell_type": "code",
   "execution_count": 92,
   "metadata": {},
   "outputs": [
    {
     "data": {
      "image/png": "[encoded data removed]",
      "text/plain": [
       "<IPython.core.display.Image object>"
      ]
     },
     "metadata": {},
     "output_type": "display_data"
    }
   ],
   "source": [
    "from IPython.display import Image, display\n",
    "\n",
    "try:\n",
    "    display(Image(graph.get_graph().draw_mermaid_png()))\n",
    "except Exception:\n",
    "    # This requires some extra dependencies and is optional\n",
    "    pass"
   ]
  },
  {
   "cell_type": "markdown",
   "metadata": {},
   "source": [
    "如果說，我們想要覆寫的只是已經存在的 message 呢？"
   ]
  },
  {
   "cell_type": "code",
   "execution_count": null,
   "metadata": {},
   "outputs": [],
   "source": [
    "user_input = \"I'm learning LangGraph. Could you do some research on it for me?\"\n",
    "config = {\"configurable\": {\"thread_id\": \"2\"}}  # we'll use thread_id = 2 here\n",
    "events = graph.stream(\n",
    "    {\"messages\": [(\"user\", user_input)]}, config, stream_mode=\"values\"\n",
    ")\n",
    "for event in events:\n",
    "    if \"messages\" in event:\n",
    "        event[\"messages\"][-1].pretty_print()"
   ]
  },
  {
   "cell_type": "markdown",
   "metadata": {},
   "source": [
    "https://ithelp.ithome.com.tw/m/articles/10347050"
   ]
  },
  {
   "cell_type": "markdown",
   "metadata": {},
   "source": [
    "https://r23456999.medium.com/langgraph-%E8%88%87-langfuse-%E6%89%93%E9%80%A0%E6%99%BA%E8%83%BD%E8%A7%80%E6%B8%AC%E7%B3%BB%E7%B5%B1%E7%9A%84%E5%AE%8C%E7%BE%8E%E7%B5%84%E5%90%88-da09e515cf1d"
   ]
  }
 ],
 "metadata": {
  "kernelspec": {
   "display_name": ".venv",
   "language": "python",
   "name": "python3"
  },
  "language_info": {
   "codemirror_mode": {
    "name": "ipython",
    "version": 3
   },
   "file_extension": ".py",
   "mimetype": "text/x-python",
   "name": "python",
   "nbconvert_exporter": "python",
   "pygments_lexer": "ipython3",
   "version": "3.11.8"
  }
 },
 "nbformat": 4,
 "nbformat_minor": 2
}
