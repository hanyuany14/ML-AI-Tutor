{
 "cells": [
  {
   "cell_type": "code",
   "execution_count": null,
   "metadata": {},
   "outputs": [],
   "source": [
    "%pip install langgraph"
   ]
  },
  {
   "cell_type": "markdown",
   "metadata": {},
   "source": [
    "# LanGraph Intro"
   ]
  },
  {
   "cell_type": "markdown",
   "metadata": {},
   "source": [
    "LangGraph 是一個用於建立複雜、狀態化的多AI代理系統的革命性框架，特別適用於與大型語言模型 (LLM) 合作。LangGraph 以圖形結構為基礎，將每個 AI 代理視為節點，而代理之間的資訊傳遞則以邊來呈現。它提供狀態管理功能，讓代理能夠在執行任務時更新自身的狀態，並保持上下文連貫性。此外，LangGraph 還具備協調能力，確保代理按正確順序執行任務，並有效地交換資訊。透過這些特性，LangGraph 簡化了開發流程，讓開發者可以更專注於應用的高階邏輯。LangGraph 適用於各種場景，例如智能客服系統、工作流程自動化、多代理協作系統、智能推薦系統以及個人化學習平台等。文章詳細介紹了 LangGraph 的核心概念、應用場景、使用方法以及優缺點，旨在讓讀者了解 LangGraph 的強大功能，並鼓勵他們開始使用這個工具來開發更智能的 AI 應用。\n",
    "\n"
   ]
  },
  {
   "cell_type": "markdown",
   "metadata": {},
   "source": [
    "圖結構（Graph Structure）：AI 應用的骨架\n",
    "LangGraph 採用有向圖（Directed Graph）來描述應用程式結構。想像將你的應用程式描述成一張有向圖，LangGraph 世界中，將每一個節點(Node) 都代表一個代理人，邊(edge) 則是代理人之間傳遞資訊的通道。利用這種清晰的結構且可管理的工作流程，每個代理人可以執行特定任務之外也能將資訊傳遞給其他代理。\n",
    "\n",
    "- 節點（Node）：代表各個智能代理\n",
    "- 邊（Edge）：代表代理之間的信息傳遞通道"
   ]
  },
  {
   "attachments": {
    "image.png": {
     "image/png": "[encoded data removed]"
    }
   },
   "cell_type": "markdown",
   "metadata": {},
   "source": [
    "![image.png](attachment:image.png)"
   ]
  },
  {
   "cell_type": "markdown",
   "metadata": {},
   "source": [
    "狀態管理（State Management）\n",
    "LangGraph 的狀態管理功能就像是給 AI 安裝了一個超級記憶體。當 AI 代理執行任務時，它們可以即時更新自己的狀態，確保系統能夠維持上下文的連貫性，並對輸入做出最恰當的回應。這項功能讓開發者能夠在多輪對話中追蹤和保留關鍵資訊，大大提升了 AI 應用的智慧程度和使用體驗。\n",
    "\n",
    "LangGraph 的動態狀態更新機制確保系統能夠：\n",
    "\n",
    "- 維護上下文\n",
    "- 對輸入做出適當回應\n",
    "- 在多次交互中追踪和保留關鍵信息"
   ]
  },
  {
   "cell_type": "markdown",
   "metadata": {},
   "source": [
    "協調（Coordination）\n",
    "LangGraph 的協調功能就像是一位精明的指揮家，確保每個 AI 代理都能在正確的時機演奏出最美妙的音符。通過精確管理資料流和操作順序，LangGraph 讓開發者能夠專注於設計應用的高階邏輯，而無需陷入繁瑣的協調細節中。\n",
    "\n",
    "LangGraph 的協調功能確保：\n",
    "\n",
    "- 代理按正確順序執行任務\n",
    "- 信息在代理間無縫交換\n",
    "- 開發者可專注於應用程序的高階邏輯\n",
    "\n",
    "\n",
    "💡 亮點：LangGraph 的協調功能極大地簡化了複雜多代理系統的開發流程，使得構建高度智能化的應用變得前所未有的簡單。"
   ]
  },
  {
   "cell_type": "markdown",
   "metadata": {},
   "source": [
    "教學：\n",
    "\n",
    "https://langchain-ai.github.io/langgraph/tutorials/introduction/#requirements"
   ]
  },
  {
   "cell_type": "markdown",
   "metadata": {},
   "source": [
    "## Concept"
   ]
  },
  {
   "cell_type": "markdown",
   "metadata": {},
   "source": [
    "# Conversational RAG"
   ]
  },
  {
   "cell_type": "code",
   "execution_count": 3,
   "metadata": {},
   "outputs": [],
   "source": [
    "from typing import Sequence\n",
    "\n",
    "import bs4\n",
    "from langchain.chains import create_history_aware_retriever, create_retrieval_chain\n",
    "from langchain.chains.combine_documents import create_stuff_documents_chain\n",
    "from langchain_community.document_loaders import WebBaseLoader\n",
    "from langchain_core.messages import AIMessage, BaseMessage, HumanMessage\n",
    "from langchain_core.prompts import ChatPromptTemplate, MessagesPlaceholder\n",
    "from langchain_core.vectorstores import InMemoryVectorStore\n",
    "from langchain_openai import ChatOpenAI, OpenAIEmbeddings\n",
    "from langchain_text_splitters import RecursiveCharacterTextSplitter\n",
    "from langgraph.checkpoint.memory import MemorySaver\n",
    "from langgraph.graph import START, StateGraph\n",
    "from langgraph.graph.message import add_messages\n",
    "from typing_extensions import Annotated, TypedDict\n",
    "\n",
    "import os\n",
    "from dotenv import load_dotenv\n",
    "\n",
    "load_dotenv(\"/Users/wenye/ML&AI Tutor/.env.local\")\n",
    "\n",
    "OPENAI_KEY = os.getenv(\"OPENAI_KEY\")\n",
    "\n",
    "llm = ChatOpenAI(model=\"gpt-4o-mini\", api_key=OPENAI_KEY)\n",
    "OPENAI_EMBEDDING = OpenAIEmbeddings(api_key=OPENAI_KEY)\n",
    "\n",
    "\n",
    "### Construct retriever ###\n",
    "loader = WebBaseLoader(\n",
    "    web_paths=(\"https://lilianweng.github.io/posts/2023-06-23-agent/\",),\n",
    "    bs_kwargs=dict(\n",
    "        parse_only=bs4.SoupStrainer(\n",
    "            class_=(\"post-content\", \"post-title\", \"post-header\")\n",
    "        )\n",
    "    ),\n",
    ")\n",
    "docs = loader.load()\n",
    "\n",
    "text_splitter = RecursiveCharacterTextSplitter(chunk_size=1000, chunk_overlap=200)\n",
    "splits = text_splitter.split_documents(docs)\n",
    "vectorstore = InMemoryVectorStore.from_documents(\n",
    "    documents=splits, embedding=OPENAI_EMBEDDING\n",
    ")\n",
    "retriever = vectorstore.as_retriever()\n",
    "\n",
    "\n",
    "### Contextualize question ###\n",
    "contextualize_q_system_prompt = (\n",
    "    \"Given a chat history and the latest user question \"\n",
    "    \"which might reference context in the chat history, \"\n",
    "    \"formulate a standalone question which can be understood \"\n",
    "    \"without the chat history. Do NOT answer the question, \"\n",
    "    \"just reformulate it if needed and otherwise return it as is.\"\n",
    ")\n",
    "contextualize_q_prompt = ChatPromptTemplate.from_messages(\n",
    "    [\n",
    "        (\"system\", contextualize_q_system_prompt),\n",
    "        MessagesPlaceholder(\"chat_history\"),\n",
    "        (\"human\", \"{input}\"),\n",
    "    ]\n",
    ")\n",
    "history_aware_retriever = create_history_aware_retriever(\n",
    "    llm, retriever, contextualize_q_prompt\n",
    ")\n",
    "\n",
    "\n",
    "### Answer question ###\n",
    "system_prompt = (\n",
    "    \"You are an assistant for question-answering tasks. \"\n",
    "    \"Use the following pieces of retrieved context to answer \"\n",
    "    \"the question. If you don't know the answer, say that you \"\n",
    "    \"don't know. Use three sentences maximum and keep the \"\n",
    "    \"answer concise.\"\n",
    "    \"\\n\\n\"\n",
    "    \"{context}\"\n",
    ")\n",
    "qa_prompt = ChatPromptTemplate.from_messages(\n",
    "    [\n",
    "        (\"system\", system_prompt),\n",
    "        MessagesPlaceholder(\"chat_history\"),\n",
    "        (\"human\", \"{input}\"),\n",
    "    ]\n",
    ")\n",
    "question_answer_chain = create_stuff_documents_chain(llm, qa_prompt)\n",
    "\n",
    "rag_chain = create_retrieval_chain(history_aware_retriever, question_answer_chain)\n",
    "\n",
    "\n",
    "### Statefully manage chat history ###\n",
    "class State(TypedDict):\n",
    "    input: str\n",
    "    chat_history: Annotated[Sequence[BaseMessage], add_messages]\n",
    "    context: str\n",
    "    answer: str\n",
    "\n",
    "\n",
    "def call_model(state: State):\n",
    "    response = rag_chain.invoke(state)\n",
    "    return {\n",
    "        \"chat_history\": [\n",
    "            HumanMessage(state[\"input\"]),\n",
    "            AIMessage(response[\"answer\"]),\n",
    "        ],\n",
    "        \"context\": response[\"context\"],\n",
    "        \"answer\": response[\"answer\"],\n",
    "    }\n",
    "\n",
    "\n",
    "workflow = StateGraph(state_schema=State)\n",
    "workflow.add_edge(START, \"model\")\n",
    "workflow.add_node(\"model\", call_model)\n",
    "\n",
    "memory = MemorySaver()\n",
    "app = workflow.compile(checkpointer=memory)"
   ]
  },
  {
   "cell_type": "code",
   "execution_count": 4,
   "metadata": {},
   "outputs": [
    {
     "name": "stdout",
     "output_type": "stream",
     "text": [
      "Task decomposition is the process of breaking down a complicated task into smaller, more manageable steps. It utilizes techniques like Chain of Thought (CoT) to enhance model performance by encouraging a step-by-step approach, allowing for easier handling of complex tasks. This can be achieved through simple prompting, task-specific instructions, or human inputs.\n"
     ]
    }
   ],
   "source": [
    "config = {\"configurable\": {\"thread_id\": \"abc123\"}}\n",
    "\n",
    "result = app.invoke(\n",
    "    {\"input\": \"What is Task Decomposition?\"},\n",
    "    config=config,\n",
    ")\n",
    "print(result[\"answer\"])"
   ]
  },
  {
   "cell_type": "code",
   "execution_count": 7,
   "metadata": {},
   "outputs": [
    {
     "name": "stdout",
     "output_type": "stream",
     "text": [
      "One way of doing task decomposition is by using task-specific instructions, such as directing the model with a prompt like \"Write a story outline.\" This method guides the model to focus on the specific requirements of the task at hand.\n"
     ]
    }
   ],
   "source": [
    "result = app.invoke(\n",
    "    {\"input\": \"What is one way of doing it?\"},\n",
    "    config=config,\n",
    ")\n",
    "print(result[\"answer\"])"
   ]
  },
  {
   "cell_type": "code",
   "execution_count": 10,
   "metadata": {},
   "outputs": [
    {
     "data": {
      "text/plain": [
       "{'source': 'https://lilianweng.github.io/posts/2023-06-23-agent/'}"
      ]
     },
     "execution_count": 10,
     "metadata": {},
     "output_type": "execute_result"
    }
   ],
   "source": [
    "result[\"context\"][0].metadata"
   ]
  },
  {
   "cell_type": "code",
   "execution_count": 6,
   "metadata": {},
   "outputs": [
    {
     "name": "stdout",
     "output_type": "stream",
     "text": [
      "================================\u001b[1m Human Message \u001b[0m=================================\n",
      "\n",
      "What is Task Decomposition?\n",
      "==================================\u001b[1m Ai Message \u001b[0m==================================\n",
      "\n",
      "Task decomposition is the process of breaking down a complicated task into smaller, more manageable steps. It utilizes techniques like Chain of Thought (CoT) to enhance model performance by encouraging a step-by-step approach, allowing for easier handling of complex tasks. This can be achieved through simple prompting, task-specific instructions, or human inputs.\n",
      "================================\u001b[1m Human Message \u001b[0m=================================\n",
      "\n",
      "What is one way of doing it?\n",
      "==================================\u001b[1m Ai Message \u001b[0m==================================\n",
      "\n",
      "One way of doing task decomposition is by using simple prompting, such as asking the model, \"Steps for XYZ.\\n1.\" This approach instructs the model to outline the necessary steps to achieve a specific goal, making the task more manageable.\n"
     ]
    }
   ],
   "source": [
    "chat_history = app.get_state(config).values[\"chat_history\"]\n",
    "for message in chat_history:\n",
    "    message.pretty_print()"
   ]
  },
  {
   "cell_type": "markdown",
   "metadata": {},
   "source": [
    "# Agent"
   ]
  },
  {
   "cell_type": "code",
   "execution_count": null,
   "metadata": {},
   "outputs": [],
   "source": []
  },
  {
   "cell_type": "markdown",
   "metadata": {},
   "source": [
    "https://ithelp.ithome.com.tw/m/articles/10347050"
   ]
  },
  {
   "cell_type": "markdown",
   "metadata": {},
   "source": [
    "https://r23456999.medium.com/langgraph-%E8%88%87-langfuse-%E6%89%93%E9%80%A0%E6%99%BA%E8%83%BD%E8%A7%80%E6%B8%AC%E7%B3%BB%E7%B5%B1%E7%9A%84%E5%AE%8C%E7%BE%8E%E7%B5%84%E5%90%88-da09e515cf1d"
   ]
  }
 ],
 "metadata": {
  "kernelspec": {
   "display_name": ".venv",
   "language": "python",
   "name": "python3"
  },
  "language_info": {
   "codemirror_mode": {
    "name": "ipython",
    "version": 3
   },
   "file_extension": ".py",
   "mimetype": "text/x-python",
   "name": "python",
   "nbconvert_exporter": "python",
   "pygments_lexer": "ipython3",
   "version": "3.11.8"
  }
 },
 "nbformat": 4,
 "nbformat_minor": 2
}
